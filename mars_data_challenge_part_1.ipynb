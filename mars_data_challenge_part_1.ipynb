{
 "cells": [
  {
   "cell_type": "code",
   "execution_count": 1,
   "metadata": {},
   "outputs": [],
   "source": [
    "# Import Splinter and BeautifulSoup\n",
    "from splinter import Browser\n",
    "from bs4 import BeautifulSoup as soup\n",
    "from webdriver_manager.chrome import ChromeDriverManager\n",
    "import time\n",
    "import json\n",
    "\n",
    "\n",
    "# create executable path\n",
    "executable_path = {'executable_path': ChromeDriverManager().install()}\n",
    "browser = Browser('chrome', **executable_path, headless=False)\n",
    "\n",
    "# Visit the Mars NASA news site\n",
    "url = 'https://redplanetscience.com'\n",
    "browser.visit(url)\n"
   ]
  },
  {
   "cell_type": "code",
   "execution_count": 2,
   "metadata": {},
   "outputs": [],
   "source": [
    "# give the site time to load before scraping\n",
    "time.sleep(3)"
   ]
  },
  {
   "cell_type": "code",
   "execution_count": 3,
   "metadata": {},
   "outputs": [],
   "source": [
    "#scrape titles\n",
    "title_scraper = soup(browser.html, 'html.parser').find_all('div',class_='content_title')\n",
    "\n",
    "#scrape summaries\n",
    "teaser_scraper = soup(browser.html, 'html.parser').find_all('div',class_='article_teaser_body')\n"
   ]
  },
  {
   "cell_type": "code",
   "execution_count": 6,
   "metadata": {},
   "outputs": [
    {
     "data": {
      "text/plain": [
       "'[{\"title\": \"AI Is Helping Scientists Discover Fresh Craters on Mars\", \"preview\": \"It\\'s the first time machine learning has been used to find previously unknown craters on the Red Planet.\"}, {\"title\": \"NASA\\'s MAVEN Explores Mars to Understand Radio Interference at Earth\", \"preview\": \"NASA\\\\u2019s MAVEN spacecraft has discovered \\\\u201clayers\\\\u201d and \\\\u201crifts\\\\u201d in the electrically charged part of the upper atmosphere of Mars.\"}, {\"title\": \"NASA Establishes Board to Initially Review Mars Sample Return Plans\", \"preview\": \"The board will assist with analysis of current plans and goals for one of the most difficult missions humanity has ever undertaken.\"}, {\"title\": \"NASA\\'s Perseverance Rover Will Look at Mars Through These \\'Eyes\\'\", \"preview\": \"A pair of zoomable cameras will help scientists and rover drivers with high-resolution color images.\"}, {\"title\": \"Hear Audio From NASA\\'s Perseverance As It Travels Through Deep Space\", \"preview\": \"The first to be rigged with microphones, the agency\\'s latest Mars rover picked up the subtle sounds of its own inner workings during interplanetary flight.\"}, {\"title\": \"The Launch Is Approaching for NASA\\'s Next Mars Rover, Perseverance\", \"preview\": \"The Red Planet\\'s surface has been visited by eight NASA spacecraft. The ninth will be the first that includes a roundtrip ticket in its flight plan. \"}, {\"title\": \"Three New Views of Mars\\' Moon Phobos\", \"preview\": \"Taken with the infrared camera aboard NASA\\'s Odyssey orbiter, they reveal temperature variations on the small moon as it drifts into and out of Mars\\\\u2019 shadow.\"}, {\"title\": \"The Extraordinary Sample-Gathering System of NASA\\'s Perseverance Mars Rover\", \"preview\": \"Two astronauts collected Moon rocks on Apollo 11. It will take three robotic systems working together to gather up the first Mars rock samples for return to Earth.\"}, {\"title\": \"NASA\\'s Mars Reconnaissance Orbiter Undergoes Memory Update\", \"preview\": \"Other orbiters will continue relaying data from Mars surface missions for a two-week period.\"}, {\"title\": \"Scientists Explore Outback as Testbed for Mars \", \"preview\": \"Australia provides a great place for NASA\\'s Mars 2020 and the ESA-Roscosmos ExoMars scientists to hone techniques in preparation for searching for signs ancient life on Mars.\"}, {\"title\": \"NASA\\'s New Mars Rover Is Ready for Space Lasers\", \"preview\": \"Perseverance is one of a few Mars spacecraft carrying laser retroreflectors. The devices could provide new science and safer Mars landings in the future.\"}, {\"title\": \"NASA to Reveal Name of Its Next Mars Rover\", \"preview\": \"After a months-long contest among students to name NASA\\'s newest Mars rover, the agency will reveal the winning name \\\\u2014 and the winning student \\\\u2014 this Thursday. \"}, {\"title\": \"Naming a NASA Mars Rover Can Change Your Life\", \"preview\": \"Want to name the robotic scientist NASA is sending to Mars in 2020? The student who named Curiosity \\\\u2014 the rover currently exploring Mars \\\\u2014 will tell you this is an opportunity worth taking.\"}, {\"title\": \"NASA\\'s Perseverance Rover 100 Days Out\", \"preview\": \"Mark your calendars: The agency\\'s latest rover has only about 8,640,000 seconds to go before it touches down on the Red Planet, becoming history\\'s next Mars car.\"}, {\"title\": \"NASA\\'s Curiosity Keeps Rolling As Team Operates Rover From Home\", \"preview\": \"The team has learned to meet new challenges as they work remotely on the Mars mission.\"}]'"
      ]
     },
     "execution_count": 6,
     "metadata": {},
     "output_type": "execute_result"
    }
   ],
   "source": [
    "# # list of dictionary of scraped data\n",
    "\n",
    "df=[]\n",
    "for i in range(len(title_scraper)):\n",
    "    scraped = {}\n",
    "    scraped['title'] = title_scraper[i].get_text()\n",
    "    scraped['preview'] = teaser_scraper[i].get_text()\n",
    "    df.append(scraped)\n",
    "\n",
    "json_object = json.dumps(df)\n",
    "with open(\"MarsNews_ArticleSummaries.json\", \"w\") as outfile:\n",
    "    outfile.write(json_object)\n",
    "\n",
    "json_object"
   ]
  },
  {
   "cell_type": "code",
   "execution_count": 5,
   "metadata": {},
   "outputs": [],
   "source": [
    "browser.quit()"
   ]
  }
 ],
 "metadata": {
  "kernelspec": {
   "display_name": "Python 3.9.13 ('UNCBC-PythonData')",
   "language": "python",
   "name": "python3"
  },
  "language_info": {
   "codemirror_mode": {
    "name": "ipython",
    "version": 3
   },
   "file_extension": ".py",
   "mimetype": "text/x-python",
   "name": "python",
   "nbconvert_exporter": "python",
   "pygments_lexer": "ipython3",
   "version": "3.9.13"
  },
  "orig_nbformat": 4,
  "vscode": {
   "interpreter": {
    "hash": "5ee9585a0dab3da76906f9fa8a72504f20352ef9b73c1b811067225ad1ac8773"
   }
  }
 },
 "nbformat": 4,
 "nbformat_minor": 2
}
